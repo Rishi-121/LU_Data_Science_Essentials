{
 "cells": [
  {
   "cell_type": "code",
   "execution_count": 22,
   "metadata": {},
   "outputs": [
    {
     "name": "stdout",
     "output_type": "stream",
     "text": [
      "\n",
      "\n",
      "Given the following jumbled word, OBANWRI guess the correct English word.\n",
      "A. RANIBOW\n",
      "B. RAINBOW\n",
      "C. BOWRANI\n",
      "D. ROBWANI\n",
      "\n",
      "RANIBOW\n",
      "\u001b[91m\n",
      "Wrong answer! Better luck next time\n"
     ]
    }
   ],
   "source": [
    "# Question 1\n",
    "\n",
    "userAnswer = input('''\n",
    "\n",
    "Given the following jumbled word, OBANWRI guess the correct English word.\n",
    "A. RANIBOW\n",
    "B. RAINBOW\n",
    "C. BOWRANI\n",
    "D. ROBWANI\n",
    "\n",
    "''')\n",
    "\n",
    "# For the word \"OBANWRI\", the correct answer is B. \"RAINBOW\" \n",
    "\n",
    "options = (\"RANIBOW\",\"RAINBOW\",\"BOWRANI\",\"ROBWANI\")\n",
    "\n",
    "for option in options:\n",
    "    if(option==\"RAINBOW\" and userAnswer == answer):\n",
    "        print('\\033[92m'+\"\\nWoo!You are right\")  #'\\033[92m' for SUCCESS_GREEN color\n",
    "        break\n",
    "else:\n",
    "    print('\\033[91m'+\"\\nWrong answer! Better luck next time\") #'\\033[92m' for DANGER_RED color"
   ]
  },
  {
   "cell_type": "code",
   "execution_count": 2,
   "metadata": {},
   "outputs": [
    {
     "name": "stdout",
     "output_type": "stream",
     "text": [
      "LETS UPGRADE\n"
     ]
    }
   ],
   "source": [
    "# Question 2\n",
    "\n",
    "str = \"Lets Upgrade\"\n",
    "print(str.upper())"
   ]
  },
  {
   "cell_type": "code",
   "execution_count": 1,
   "metadata": {},
   "outputs": [
    {
     "name": "stdout",
     "output_type": "stream",
     "text": [
      "23\n",
      "7\n",
      "Loss\n"
     ]
    }
   ],
   "source": [
    "# Question 3\n",
    "\n",
    "cost_price,selling_price = (int(input()) for i in range(2))  \n",
    "if(cost_price < selling_price):\n",
    "    print(\"Profit\")\n",
    "elif(cost_price > selling_price):\n",
    "    print(\"Loss\")  \n",
    "else:\n",
    "    print(\"Neither\")"
   ]
  },
  {
   "cell_type": "code",
   "execution_count": 4,
   "metadata": {},
   "outputs": [
    {
     "name": "stdout",
     "output_type": "stream",
     "text": [
      "7\n",
      "560\n"
     ]
    }
   ],
   "source": [
    "# Question 4\n",
    "\n",
    "# As per the problem statement 1€ = 80₹ \n",
    "\n",
    "print(int(input())*80)\n"
   ]
  }
 ],
 "metadata": {
  "kernelspec": {
   "display_name": "Python 3",
   "language": "python",
   "name": "python3"
  },
  "language_info": {
   "codemirror_mode": {
    "name": "ipython",
    "version": 3
   },
   "file_extension": ".py",
   "mimetype": "text/x-python",
   "name": "python",
   "nbconvert_exporter": "python",
   "pygments_lexer": "ipython3",
   "version": "3.7.6"
  }
 },
 "nbformat": 4,
 "nbformat_minor": 4
}
