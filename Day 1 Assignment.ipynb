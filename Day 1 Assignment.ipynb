{
 "cells": [
  {
   "cell_type": "code",
   "execution_count": 1,
   "metadata": {},
   "outputs": [
    {
     "output_type": "stream",
     "name": "stdout",
     "text": [
      "RAINBOW\n"
     ]
    }
   ],
   "source": [
    "#Question 1\n",
    "\n",
    "print(\"RAINBOW\")"
   ]
  },
  {
   "cell_type": "code",
   "execution_count": 2,
   "metadata": {},
   "outputs": [
    {
     "output_type": "stream",
     "name": "stdout",
     "text": [
      "LETS UPGRADE\n"
     ]
    }
   ],
   "source": [
    "#Question 2\n",
    "\n",
    "str = \"Lets Upgrade\"\n",
    "print(str.upper())"
   ]
  },
  {
   "cell_type": "code",
   "execution_count": 3,
   "metadata": {},
   "outputs": [
    {
     "output_type": "stream",
     "name": "stdout",
     "text": [
      "Loss\n"
     ]
    }
   ],
   "source": [
    "#Question 3\n",
    "\n",
    "cost_price,selling_price = (int(input()) for i in range(2))  \n",
    "if(cost_price < selling_price):\n",
    "    print(\"Profit\")\n",
    "elif(cost_price > selling_price):\n",
    "    print(\"Loss\")  \n",
    "else:\n",
    "    print(\"Neither\")"
   ]
  },
  {
   "cell_type": "code",
   "execution_count": 25,
   "metadata": {},
   "outputs": [
    {
     "name": "stdout",
     "output_type": "stream",
     "text": [
      "7\n",
      "560\n"
     ]
    }
   ],
   "source": [
    "#Question 4\n",
    "\n",
    "# As per the problem statement 1€ = 80₹ \n",
    "\n",
    "print(int(input())*80)\n"
   ]
  },
  {
   "cell_type": "code",
   "execution_count": null,
   "metadata": {},
   "outputs": [],
   "source": []
  }
 ],
 "metadata": {
  "kernelspec": {
   "name": "python3",
   "display_name": "Python 3"
  },
  "language_info": {
   "codemirror_mode": {
    "name": "ipython",
    "version": 3
   },
   "file_extension": ".py",
   "mimetype": "text/x-python",
   "name": "python",
   "nbconvert_exporter": "python",
   "pygments_lexer": "ipython3",
   "version": "3.7.6-final"
  }
 },
 "nbformat": 4,
 "nbformat_minor": 4
}