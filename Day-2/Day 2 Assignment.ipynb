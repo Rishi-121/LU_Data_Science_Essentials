{
 "cells": [
  {
   "cell_type": "code",
   "execution_count": 35,
   "metadata": {},
   "outputs": [
    {
     "name": "stdout",
     "output_type": "stream",
     "text": [
      "1\n",
      "2 \n",
      "3\n",
      "4\n",
      "5\n",
      "6\n",
      "7\n",
      "8\n",
      "9\n",
      "10\n",
      "[2, 4, 6, 8, 10]\n"
     ]
    }
   ],
   "source": [
    "# Question 1\n",
    "\n",
    "myList_1 = [] #Created an Empty List \n",
    "\n",
    "for i in range(10):\n",
    "    \n",
    "    userInput_1 = int(input())\n",
    "    \n",
    "    if(userInput_1%2 == 0):\n",
    "        \n",
    "        myList_1.append(userInput_1)\n",
    "    \n",
    "print(myList_1)"
   ]
  },
  {
   "cell_type": "code",
   "execution_count": 58,
   "metadata": {},
   "outputs": [
    {
     "name": "stdout",
     "output_type": "stream",
     "text": [
      "1\n",
      "2\n",
      "3\n",
      "4\n",
      "5\n",
      "6\n",
      "7\n",
      "8\n",
      "9\n",
      "10\n",
      "[2, 4, 6, 8, 10]\n"
     ]
    }
   ],
   "source": [
    "# Question 1\n",
    "\n",
    "'''\n",
    "Alternative Method\n",
    "------------------\n",
    "\n",
    "Here I have used filter() with lambda function. \n",
    "\n",
    "* filter(function,sequence) \n",
    "\n",
    "* Lambda Function or Anonymous Function \n",
    "    \n",
    "        lambda argument(s):expression \n",
    "\n",
    "In filter(), I have passed the lambda function, which will check the even numbers, and after that, a list will take up to 10 inputs from the user and append it on to the list as per the condition.\n",
    "\n",
    "List comprehension has been used here to take up to 10 user input.\n",
    "\n",
    "'''\n",
    "\n",
    "print(list(filter(lambda x:x%2==0,[int(input()) for i in range(10)])))"
   ]
  },
  {
   "cell_type": "code",
   "execution_count": 14,
   "metadata": {},
   "outputs": [
    {
     "name": "stdout",
     "output_type": "stream",
     "text": [
      "[1, 2, 3, 4, 5, 6, 7, 8, 9, 10]\n"
     ]
    }
   ],
   "source": [
    "# Question 2\n",
    "\n",
    "myList_2 = [i for i in range(1,11)] #List Comprehension\n",
    "\n",
    "print(myList_2)"
   ]
  },
  {
   "cell_type": "code",
   "execution_count": 2,
   "metadata": {},
   "outputs": [
    {
     "name": "stdout",
     "output_type": "stream",
     "text": [
      "4\n",
      "{1: 1, 2: 4, 3: 9, 4: 16}\n"
     ]
    }
   ],
   "source": [
    "# Question 3\n",
    "\n",
    "userInput_2 = int(input())\n",
    "\n",
    "myDict_1 = {}  #Initialized an Empty Dictionary\n",
    "\n",
    "for i in range(1,userInput_2+1): \n",
    "    \n",
    "    myDict_1[i]=i*i   #Inserted the Key-Value Pair into the Dictionary i.e dict[i] = i*i\n",
    "\n",
    "print(myDict_1)"
   ]
  },
  {
   "cell_type": "code",
   "execution_count": 3,
   "metadata": {},
   "outputs": [
    {
     "name": "stdout",
     "output_type": "stream",
     "text": [
      "2\n"
     ]
    }
   ],
   "source": [
    "# Question 4\n",
    "\n",
    "from math import sqrt\n",
    "\n",
    "# Here I have taken direction and their corresponding step into a dictionary\n",
    "\n",
    "direction_steps = {\"UP\": 5, \"DOWN\": 3, \"LEFT\": 3, \"RIGHT\": 2}\n",
    "\n",
    "x1,y1 = 0,0\n",
    "\n",
    "'''\n",
    "\n",
    "    So we can consider the (UP - DOWN) as x2 and (RIGHT - LEFT) as y2\n",
    "    \n",
    "    x2 = (UP - DOWN) = 5 - 3 = 2\n",
    "    \n",
    "    y2 = (RIGHT - LEFT) = 2 - 3 = -1 \n",
    "    \n",
    "    Otherwise, the coordinates will be in -ve value.\n",
    "    \n",
    "    Distance Formula = sqrt((x2 - x1)**2 + (y2 -y1)**2)\n",
    "    \n",
    "'''\n",
    "     \n",
    "x2 = direction_steps[\"UP\"] - direction_steps[\"DOWN\"]\n",
    "\n",
    "y2 = direction_steps[\"RIGHT\"] - direction_steps[\"LEFT\"]\n",
    "\n",
    "distance = int(round(sqrt((x2 - x1)**2 + (y2 -y1)**2)))  \n",
    "\n",
    "print(distance)"
   ]
  }
 ],
 "metadata": {
  "kernelspec": {
   "display_name": "Python 3",
   "language": "python",
   "name": "python3"
  },
  "language_info": {
   "codemirror_mode": {
    "name": "ipython",
    "version": 3
   },
   "file_extension": ".py",
   "mimetype": "text/x-python",
   "name": "python",
   "nbconvert_exporter": "python",
   "pygments_lexer": "ipython3",
   "version": "3.7.6"
  }
 },
 "nbformat": 4,
 "nbformat_minor": 4
}
