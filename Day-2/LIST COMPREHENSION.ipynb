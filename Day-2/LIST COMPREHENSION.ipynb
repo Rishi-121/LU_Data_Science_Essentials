{
 "cells": [
  {
   "cell_type": "markdown",
   "metadata": {},
   "source": [
    "# List Comprehension"
   ]
  },
  {
   "cell_type": "code",
   "execution_count": 1,
   "metadata": {},
   "outputs": [
    {
     "name": "stdout",
     "output_type": "stream",
     "text": [
      "['H', 'e', 'l', 'l', 'o']\n"
     ]
    }
   ],
   "source": [
    "'''\n",
    "    \n",
    "    * List comprehension is an elegant way to define and create lists based on existing lists.\n",
    "    \n",
    "        Syntax: [expression for value in collection]\n",
    "    \n",
    "                [expression for value in range(n)]\n",
    "            \n",
    "                [expression for value in range(n) if(condition)]\n",
    "                \n",
    "    * It's more compact and faster than normal functions and loops for creating a list.\n",
    "     \n",
    "'''\n",
    "\n",
    "str = \"Hello\"\n",
    "\n",
    "print([i for i in str])"
   ]
  },
  {
   "cell_type": "code",
   "execution_count": 2,
   "metadata": {},
   "outputs": [
    {
     "name": "stdout",
     "output_type": "stream",
     "text": [
      "[1, 2, 3, 4, 5, 6, 7, 8, 9, 10]\n"
     ]
    }
   ],
   "source": [
    "print([i for i in range(1,11)])"
   ]
  },
  {
   "cell_type": "code",
   "execution_count": 3,
   "metadata": {},
   "outputs": [
    {
     "name": "stdout",
     "output_type": "stream",
     "text": [
      "[2, 4, 6, 8, 10]\n"
     ]
    }
   ],
   "source": [
    "print([i for i in range(1,11) if i%2==0])"
   ]
  },
  {
   "cell_type": "code",
   "execution_count": 7,
   "metadata": {},
   "outputs": [
    {
     "name": "stdout",
     "output_type": "stream",
     "text": [
      "1\n",
      "2\n",
      "3\n",
      "4\n",
      "5\n",
      "6\n",
      "7\n",
      "8\n",
      "9\n",
      "10\n",
      "[2, 4, 6, 8, 10]\n"
     ]
    }
   ],
   "source": [
    "#Question 1\n",
    "\n",
    "'''\n",
    "Alternative Method \n",
    "------------------\n",
    "\n",
    "Here I have used filter() with lambda function. \n",
    "\n",
    "* filter(function,sequence) \n",
    "\n",
    "* Lambda Function or Anonymous Function \n",
    "    \n",
    "        lambda argument(s):expression \n",
    "\n",
    "In filter(), I have passed the lambda function, which will check the even numbers, and after that, a list will take up to 10 inputs from the user and append it on to the list as per the condition.\n",
    "\n",
    "List comprehension has been used here to take up to 10 user input.\n",
    "\n",
    "'''\n",
    "\n",
    "print(list(filter(lambda x:x%2==0,[int(input()) for i in range(10)])))"
   ]
  },
  {
   "cell_type": "code",
   "execution_count": 4,
   "metadata": {},
   "outputs": [
    {
     "name": "stdout",
     "output_type": "stream",
     "text": [
      "[1, 2, 3, 4, 5, 6, 7, 8, 9, 10]\n"
     ]
    }
   ],
   "source": [
    "#Question 2\n",
    "\n",
    "myList_2 = [i for i in range(1,11)] \n",
    "\n",
    "print(myList_2)"
   ]
  }
 ],
 "metadata": {
  "kernelspec": {
   "display_name": "Python 3",
   "language": "python",
   "name": "python3"
  },
  "language_info": {
   "codemirror_mode": {
    "name": "ipython",
    "version": 3
   },
   "file_extension": ".py",
   "mimetype": "text/x-python",
   "name": "python",
   "nbconvert_exporter": "python",
   "pygments_lexer": "ipython3",
   "version": "3.7.6"
  }
 },
 "nbformat": 4,
 "nbformat_minor": 4
}
