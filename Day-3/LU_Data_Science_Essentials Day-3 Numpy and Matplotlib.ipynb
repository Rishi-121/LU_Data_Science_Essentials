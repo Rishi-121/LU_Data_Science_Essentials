{
 "cells": [
  {
   "cell_type": "markdown",
   "metadata": {},
   "source": [
    "# Numpy "
   ]
  },
  {
   "cell_type": "code",
   "execution_count": 1,
   "metadata": {},
   "outputs": [],
   "source": [
    "import numpy as np"
   ]
  },
  {
   "cell_type": "code",
   "execution_count": 2,
   "metadata": {},
   "outputs": [
    {
     "name": "stdout",
     "output_type": "stream",
     "text": [
      "1.18.1\n"
     ]
    }
   ],
   "source": [
    "print(np.__version__)"
   ]
  },
  {
   "cell_type": "code",
   "execution_count": 3,
   "metadata": {},
   "outputs": [],
   "source": [
    "arr = np.array([1,5,4,2,9])"
   ]
  },
  {
   "cell_type": "code",
   "execution_count": 4,
   "metadata": {},
   "outputs": [
    {
     "data": {
      "text/plain": [
       "array([1, 5, 4, 2, 9])"
      ]
     },
     "execution_count": 4,
     "metadata": {},
     "output_type": "execute_result"
    }
   ],
   "source": [
    "arr"
   ]
  },
  {
   "cell_type": "code",
   "execution_count": 5,
   "metadata": {},
   "outputs": [
    {
     "name": "stdout",
     "output_type": "stream",
     "text": [
      "<class 'numpy.ndarray'>\n"
     ]
    }
   ],
   "source": [
    "print(type(arr))"
   ]
  },
  {
   "cell_type": "code",
   "execution_count": 6,
   "metadata": {},
   "outputs": [
    {
     "data": {
      "text/plain": [
       "dtype('int32')"
      ]
     },
     "execution_count": 6,
     "metadata": {},
     "output_type": "execute_result"
    }
   ],
   "source": [
    "arr.dtype"
   ]
  },
  {
   "cell_type": "code",
   "execution_count": 7,
   "metadata": {},
   "outputs": [
    {
     "data": {
      "text/plain": [
       "21"
      ]
     },
     "execution_count": 7,
     "metadata": {},
     "output_type": "execute_result"
    }
   ],
   "source": [
    "np.sum(arr)"
   ]
  },
  {
   "cell_type": "code",
   "execution_count": 8,
   "metadata": {},
   "outputs": [
    {
     "name": "stdout",
     "output_type": "stream",
     "text": [
      "[1. 5. 4. 2. 9.]\n",
      "float64\n"
     ]
    }
   ],
   "source": [
    "arr = np.array([1,5,4,2.0,9])\n",
    "print(arr)\n",
    "print(arr.dtype)"
   ]
  },
  {
   "cell_type": "code",
   "execution_count": 10,
   "metadata": {},
   "outputs": [
    {
     "name": "stdout",
     "output_type": "stream",
     "text": [
      "['1' '5' '4' '2.0' '9' 'Hrushikesh']\n",
      "<U32\n"
     ]
    }
   ],
   "source": [
    "arr = np.array([1,5,4,2.0,9,\"Hrushikesh\"])\n",
    "print(arr)\n",
    "print(arr.dtype) #<U32 Unicode Character Representation\n"
   ]
  },
  {
   "cell_type": "code",
   "execution_count": 12,
   "metadata": {},
   "outputs": [
    {
     "name": "stdout",
     "output_type": "stream",
     "text": [
      "[[1 2 3]\n",
      " [4 5 6]\n",
      " [7 8 9]]\n"
     ]
    }
   ],
   "source": [
    "arr = np.array([ [1,2,3] , [4,5,6] , [7,8,9] ])\n",
    "print(arr)"
   ]
  },
  {
   "cell_type": "code",
   "execution_count": 13,
   "metadata": {},
   "outputs": [
    {
     "data": {
      "text/plain": [
       "(3, 3)"
      ]
     },
     "execution_count": 13,
     "metadata": {},
     "output_type": "execute_result"
    }
   ],
   "source": [
    "arr.shape"
   ]
  },
  {
   "cell_type": "code",
   "execution_count": 14,
   "metadata": {},
   "outputs": [
    {
     "name": "stdout",
     "output_type": "stream",
     "text": [
      "[list([1, 2, 3]) list([4, 5, 6]) list([7, 8])]\n"
     ]
    }
   ],
   "source": [
    "arr = np.array([ [1,2,3] , [4,5,6] , [7,8] ])\n",
    "print(arr)"
   ]
  },
  {
   "cell_type": "code",
   "execution_count": 15,
   "metadata": {},
   "outputs": [
    {
     "data": {
      "text/plain": [
       "(3,)"
      ]
     },
     "execution_count": 15,
     "metadata": {},
     "output_type": "execute_result"
    }
   ],
   "source": [
    "arr.shape"
   ]
  },
  {
   "cell_type": "code",
   "execution_count": 17,
   "metadata": {},
   "outputs": [
    {
     "name": "stdout",
     "output_type": "stream",
     "text": [
      "[[0 0 0 0]\n",
      " [0 0 0 0]]\n"
     ]
    }
   ],
   "source": [
    "arr = np.zeros((2,4),dtype=int)\n",
    "print(arr)"
   ]
  },
  {
   "cell_type": "code",
   "execution_count": 18,
   "metadata": {},
   "outputs": [
    {
     "name": "stdout",
     "output_type": "stream",
     "text": [
      "[[1 1 1 1]\n",
      " [1 1 1 1]]\n"
     ]
    }
   ],
   "source": [
    "arr = np.ones((2,4),dtype=int)\n",
    "print(arr)"
   ]
  },
  {
   "cell_type": "code",
   "execution_count": 19,
   "metadata": {},
   "outputs": [
    {
     "data": {
      "text/plain": [
       "array([[1, 0, 0],\n",
       "       [0, 1, 0],\n",
       "       [0, 0, 1]])"
      ]
     },
     "execution_count": 19,
     "metadata": {},
     "output_type": "execute_result"
    }
   ],
   "source": [
    "np.identity(3, dtype = int)"
   ]
  },
  {
   "cell_type": "code",
   "execution_count": 21,
   "metadata": {},
   "outputs": [
    {
     "data": {
      "text/plain": [
       "array([[ 1.45099678,  1.840937  , -2.46252321,  0.60979923],\n",
       "       [-2.45968974,  2.34332464, -0.44392554,  0.53509161],\n",
       "       [-1.50316299,  0.60996757, -0.20245662, -0.86021954]])"
      ]
     },
     "execution_count": 21,
     "metadata": {},
     "output_type": "execute_result"
    }
   ],
   "source": [
    "arr = np.random.randn(3,4)\n",
    "arr"
   ]
  },
  {
   "cell_type": "code",
   "execution_count": 22,
   "metadata": {},
   "outputs": [
    {
     "data": {
      "text/plain": [
       "array([[-1.37081704,  0.46159851, -0.77979701,  1.75538338, -0.28310724,\n",
       "        -1.97669274,  0.46726582,  0.94291461,  0.32311534,  1.45617834],\n",
       "       [ 0.22076123,  0.107653  ,  0.89588298,  0.602135  , -0.6976482 ,\n",
       "        -0.55793579, -0.47117798, -1.74349327, -0.32286221, -1.62399396],\n",
       "       [ 0.24352679,  0.66704042, -0.74862787,  1.94119139,  0.65057918,\n",
       "         0.55861146,  0.94892988,  2.08348051, -0.35878222,  0.54115575],\n",
       "       [ 0.59954201,  0.82083498,  0.42746192, -1.9286683 , -0.05837543,\n",
       "         0.70916159, -0.99772   ,  1.15817988, -0.10085166,  0.95194327],\n",
       "       [-1.49423189, -0.38954204,  0.07410451,  0.14112747, -0.90157353,\n",
       "        -0.63628479, -0.83164237, -0.86060073,  0.68811634, -1.15366957],\n",
       "       [-0.96425977, -1.07362302,  0.82564455, -0.6427218 ,  0.01331245,\n",
       "         1.03587848, -2.15014226,  1.87757726,  1.679376  ,  1.16744664],\n",
       "       [-0.20854545, -0.83400753, -0.00818628, -0.03684628,  0.0913815 ,\n",
       "        -2.27967813, -0.5749405 ,  0.04270455,  1.59696956, -0.50997466],\n",
       "       [ 0.86700079, -1.36390022, -0.24901919, -1.86479614,  0.82306932,\n",
       "         0.33743569, -0.54979556, -1.0520993 , -1.23212257,  0.87370635],\n",
       "       [ 0.23712346, -0.82562556, -0.89769017,  1.27515573, -0.38649105,\n",
       "        -1.41459656, -0.71000125,  0.23686595, -0.48007732, -0.89151154],\n",
       "       [ 0.48587857, -0.96569896,  0.1344384 , -0.84317801, -0.02296988,\n",
       "         1.74373139, -0.82288142, -0.25776343, -0.65436366, -0.06684664]])"
      ]
     },
     "execution_count": 22,
     "metadata": {},
     "output_type": "execute_result"
    }
   ],
   "source": [
    "arr = np.random.randn(10,10)\n",
    "arr"
   ]
  },
  {
   "cell_type": "code",
   "execution_count": 24,
   "metadata": {},
   "outputs": [
    {
     "name": "stdout",
     "output_type": "stream",
     "text": [
      "[[1 2 3]\n",
      " [4 5 6]\n",
      " [7 8 9]]\n"
     ]
    }
   ],
   "source": [
    "# Indexing in Numpy\n",
    "\n",
    "arr = np.array([ [1,2,3] , [4,5,6] , [7,8,9]])\n",
    "print(arr)"
   ]
  },
  {
   "cell_type": "code",
   "execution_count": 25,
   "metadata": {},
   "outputs": [
    {
     "data": {
      "text/plain": [
       "(3, 3)"
      ]
     },
     "execution_count": 25,
     "metadata": {},
     "output_type": "execute_result"
    }
   ],
   "source": [
    "arr.shape"
   ]
  },
  {
   "cell_type": "code",
   "execution_count": 26,
   "metadata": {},
   "outputs": [
    {
     "data": {
      "text/plain": [
       "array([1, 2, 3])"
      ]
     },
     "execution_count": 26,
     "metadata": {},
     "output_type": "execute_result"
    }
   ],
   "source": [
    "arr[0]"
   ]
  },
  {
   "cell_type": "code",
   "execution_count": 27,
   "metadata": {},
   "outputs": [
    {
     "data": {
      "text/plain": [
       "array([7, 8, 9])"
      ]
     },
     "execution_count": 27,
     "metadata": {},
     "output_type": "execute_result"
    }
   ],
   "source": [
    "arr[2]"
   ]
  },
  {
   "cell_type": "code",
   "execution_count": 28,
   "metadata": {},
   "outputs": [
    {
     "data": {
      "text/plain": [
       "2"
      ]
     },
     "execution_count": 28,
     "metadata": {},
     "output_type": "execute_result"
    }
   ],
   "source": [
    "arr[0][1]"
   ]
  },
  {
   "cell_type": "code",
   "execution_count": 30,
   "metadata": {},
   "outputs": [
    {
     "name": "stdout",
     "output_type": "stream",
     "text": [
      "[ 0  1  2  3  4  5  6  7  8  9 10 11]\n"
     ]
    }
   ],
   "source": [
    "print(np.arange(12))"
   ]
  },
  {
   "cell_type": "code",
   "execution_count": 31,
   "metadata": {},
   "outputs": [
    {
     "data": {
      "text/plain": [
       "array([[ 0,  1,  2,  3],\n",
       "       [ 4,  5,  6,  7],\n",
       "       [ 8,  9, 10, 11]])"
      ]
     },
     "execution_count": 31,
     "metadata": {},
     "output_type": "execute_result"
    }
   ],
   "source": [
    "np.arange(12).reshape(3,4)"
   ]
  },
  {
   "cell_type": "code",
   "execution_count": 32,
   "metadata": {},
   "outputs": [
    {
     "data": {
      "text/plain": [
       "array([[ 0,  1,  2],\n",
       "       [ 3,  4,  5],\n",
       "       [ 6,  7,  8],\n",
       "       [ 9, 10, 11]])"
      ]
     },
     "execution_count": 32,
     "metadata": {},
     "output_type": "execute_result"
    }
   ],
   "source": [
    "np.arange(12).reshape(4,3)"
   ]
  },
  {
   "cell_type": "code",
   "execution_count": 36,
   "metadata": {},
   "outputs": [
    {
     "data": {
      "text/plain": [
       "array([[[ 0,  1,  2],\n",
       "        [ 3,  4,  5]],\n",
       "\n",
       "       [[ 6,  7,  8],\n",
       "        [ 9, 10, 11]]])"
      ]
     },
     "execution_count": 36,
     "metadata": {},
     "output_type": "execute_result"
    }
   ],
   "source": [
    "arr = np.arange(12).reshape(2,2,3)\n",
    "arr"
   ]
  },
  {
   "cell_type": "code",
   "execution_count": 37,
   "metadata": {},
   "outputs": [
    {
     "data": {
      "text/plain": [
       "array([[0, 1, 2],\n",
       "       [3, 4, 5]])"
      ]
     },
     "execution_count": 37,
     "metadata": {},
     "output_type": "execute_result"
    }
   ],
   "source": [
    "arr[0]"
   ]
  },
  {
   "cell_type": "code",
   "execution_count": 38,
   "metadata": {},
   "outputs": [
    {
     "data": {
      "text/plain": [
       "array([[ 6,  7,  8],\n",
       "       [ 9, 10, 11]])"
      ]
     },
     "execution_count": 38,
     "metadata": {},
     "output_type": "execute_result"
    }
   ],
   "source": [
    "arr[1]"
   ]
  },
  {
   "cell_type": "code",
   "execution_count": 39,
   "metadata": {},
   "outputs": [
    {
     "data": {
      "text/plain": [
       "array([3, 4, 5])"
      ]
     },
     "execution_count": 39,
     "metadata": {},
     "output_type": "execute_result"
    }
   ],
   "source": [
    "arr[0][1]"
   ]
  },
  {
   "cell_type": "code",
   "execution_count": 40,
   "metadata": {},
   "outputs": [
    {
     "data": {
      "text/plain": [
       "5"
      ]
     },
     "execution_count": 40,
     "metadata": {},
     "output_type": "execute_result"
    }
   ],
   "source": [
    "arr[0][1][2]"
   ]
  },
  {
   "cell_type": "code",
   "execution_count": 41,
   "metadata": {},
   "outputs": [
    {
     "data": {
      "text/plain": [
       "7"
      ]
     },
     "execution_count": 41,
     "metadata": {},
     "output_type": "execute_result"
    }
   ],
   "source": [
    "# Print 7\n",
    "\n",
    "arr[1][0][1]"
   ]
  },
  {
   "cell_type": "code",
   "execution_count": 44,
   "metadata": {},
   "outputs": [
    {
     "data": {
      "text/plain": [
       "array([[[0, 1, 2],\n",
       "        [3, 4, 5]]])"
      ]
     },
     "execution_count": 44,
     "metadata": {},
     "output_type": "execute_result"
    }
   ],
   "source": [
    "# Slicing Operation\n",
    "\n",
    "arr[0:1]"
   ]
  },
  {
   "cell_type": "code",
   "execution_count": 45,
   "metadata": {},
   "outputs": [
    {
     "data": {
      "text/plain": [
       "array([[[ 0,  1,  2],\n",
       "        [ 3,  4,  5]],\n",
       "\n",
       "       [[ 6,  7,  8],\n",
       "        [ 9, 10, 11]]])"
      ]
     },
     "execution_count": 45,
     "metadata": {},
     "output_type": "execute_result"
    }
   ],
   "source": [
    "arr[0:2]"
   ]
  },
  {
   "cell_type": "code",
   "execution_count": 46,
   "metadata": {},
   "outputs": [
    {
     "data": {
      "text/plain": [
       "array([ 0,  1,  2,  3,  4,  5,  6,  7,  8,  9, 10, 11])"
      ]
     },
     "execution_count": 46,
     "metadata": {},
     "output_type": "execute_result"
    }
   ],
   "source": [
    "np.arange(12)"
   ]
  },
  {
   "cell_type": "code",
   "execution_count": 51,
   "metadata": {},
   "outputs": [
    {
     "data": {
      "text/plain": [
       "array([1, 2, 3, 4, 5])"
      ]
     },
     "execution_count": 51,
     "metadata": {},
     "output_type": "execute_result"
    }
   ],
   "source": [
    "np.arange(12)[1:6]"
   ]
  },
  {
   "cell_type": "code",
   "execution_count": 52,
   "metadata": {},
   "outputs": [
    {
     "data": {
      "text/plain": [
       "2"
      ]
     },
     "execution_count": 52,
     "metadata": {},
     "output_type": "execute_result"
    }
   ],
   "source": [
    "np.arange(12)[1:6][1]"
   ]
  },
  {
   "cell_type": "code",
   "execution_count": 54,
   "metadata": {},
   "outputs": [
    {
     "data": {
      "text/plain": [
       "numpy.int32"
      ]
     },
     "execution_count": 54,
     "metadata": {},
     "output_type": "execute_result"
    }
   ],
   "source": [
    "type(np.arange(12)[1:6][1])"
   ]
  },
  {
   "cell_type": "code",
   "execution_count": 55,
   "metadata": {},
   "outputs": [
    {
     "data": {
      "text/plain": [
       "array([[ 0,  1,  2,  3,  4],\n",
       "       [ 5,  6,  7,  8,  9],\n",
       "       [10, 11, 12, 13, 14]])"
      ]
     },
     "execution_count": 55,
     "metadata": {},
     "output_type": "execute_result"
    }
   ],
   "source": [
    "# Ufunc -> Broadcasting\n",
    "\n",
    "arr = np.arange(15).reshape(3,5)\n",
    "arr"
   ]
  },
  {
   "cell_type": "code",
   "execution_count": 56,
   "metadata": {},
   "outputs": [
    {
     "data": {
      "text/plain": [
       "array([[ 5,  6,  7,  8,  9],\n",
       "       [10, 11, 12, 13, 14],\n",
       "       [15, 16, 17, 18, 19]])"
      ]
     },
     "execution_count": 56,
     "metadata": {},
     "output_type": "execute_result"
    }
   ],
   "source": [
    "arr+5"
   ]
  },
  {
   "cell_type": "code",
   "execution_count": 57,
   "metadata": {},
   "outputs": [
    {
     "data": {
      "text/plain": [
       "array([[ 0,  2,  4,  6,  8],\n",
       "       [10, 12, 14, 16, 18],\n",
       "       [20, 22, 24, 26, 28]])"
      ]
     },
     "execution_count": 57,
     "metadata": {},
     "output_type": "execute_result"
    }
   ],
   "source": [
    "arr*2"
   ]
  },
  {
   "cell_type": "code",
   "execution_count": 60,
   "metadata": {},
   "outputs": [
    {
     "name": "stdout",
     "output_type": "stream",
     "text": [
      "[[ 0  1  2]\n",
      " [ 3  4  5]\n",
      " [ 6  7  8]\n",
      " [ 9 10 11]\n",
      " [12 13 14]]\n",
      "\n",
      "[[0]\n",
      " [1]\n",
      " [2]\n",
      " [3]\n",
      " [4]]\n"
     ]
    }
   ],
   "source": [
    "arr1 = np.arange(15).reshape(5,3)\n",
    "arr2 = np.arange(5).reshape(5,1)\n",
    "print(arr1)\n",
    "print()\n",
    "print(arr2)"
   ]
  },
  {
   "cell_type": "code",
   "execution_count": 61,
   "metadata": {},
   "outputs": [
    {
     "data": {
      "text/plain": [
       "array([[ 0,  1,  2],\n",
       "       [ 4,  5,  6],\n",
       "       [ 8,  9, 10],\n",
       "       [12, 13, 14],\n",
       "       [16, 17, 18]])"
      ]
     },
     "execution_count": 61,
     "metadata": {},
     "output_type": "execute_result"
    }
   ],
   "source": [
    "arr1 + arr2"
   ]
  },
  {
   "cell_type": "code",
   "execution_count": 62,
   "metadata": {},
   "outputs": [
    {
     "name": "stdout",
     "output_type": "stream",
     "text": [
      "[[1 2 3]\n",
      " [4 5 6]\n",
      " [7 8 9]]\n",
      "\n",
      "[[2 2 2]\n",
      " [3 3 3]\n",
      " [4 4 4]]\n"
     ]
    }
   ],
   "source": [
    "A = np.array([ [1,2,3] , [4,5,6], [7,8,9] ])\n",
    "B = np.array([ [2,2,2] , [3,3,3], [4,4,4] ])\n",
    "print(A)\n",
    "print()\n",
    "print(B)"
   ]
  },
  {
   "cell_type": "code",
   "execution_count": 64,
   "metadata": {},
   "outputs": [
    {
     "data": {
      "text/plain": [
       "array([[20, 20, 20],\n",
       "       [47, 47, 47],\n",
       "       [74, 74, 74]])"
      ]
     },
     "execution_count": 64,
     "metadata": {},
     "output_type": "execute_result"
    }
   ],
   "source": [
    "# Matrix Multiplication\n",
    "\n",
    "A.dot(B)"
   ]
  },
  {
   "cell_type": "code",
   "execution_count": 65,
   "metadata": {},
   "outputs": [
    {
     "name": "stdout",
     "output_type": "stream",
     "text": [
      "[[1 2 3]\n",
      " [4 5 6]\n",
      " [7 8 9]]\n"
     ]
    },
    {
     "data": {
      "text/plain": [
       "array([[1, 4, 7],\n",
       "       [2, 5, 8],\n",
       "       [3, 6, 9]])"
      ]
     },
     "execution_count": 65,
     "metadata": {},
     "output_type": "execute_result"
    }
   ],
   "source": [
    "A = np.array([ [1,2,3] , [4,5,6], [7,8,9] ])\n",
    "print(A)\n",
    "\n",
    "# Transpose of the Matrix\n",
    "\n",
    "A.T"
   ]
  },
  {
   "cell_type": "raw",
   "metadata": {},
   "source": [
    "Linear Algebra\n",
    "\n",
    "7x + 5y - 3z = 16 \n",
    "3x - 5y + 2z = -8\n",
    "5x + 3y - 7z = 0\n",
    "\n"
   ]
  },
  {
   "cell_type": "code",
   "execution_count": 69,
   "metadata": {},
   "outputs": [
    {
     "data": {
      "text/plain": [
       "array([1., 3., 2.])"
      ]
     },
     "execution_count": 69,
     "metadata": {},
     "output_type": "execute_result"
    }
   ],
   "source": [
    "a = np.array([ [7,5,-3] , [3,-5,2] , [5,3,-7] ])\n",
    "b = np.array([16,-8,0])\n",
    "\n",
    "answers = np.linalg.solve(a,b)\n",
    "\n",
    "answers"
   ]
  },
  {
   "cell_type": "markdown",
   "metadata": {},
   "source": [
    "# Matplotlib"
   ]
  },
  {
   "cell_type": "code",
   "execution_count": 70,
   "metadata": {},
   "outputs": [],
   "source": [
    "import matplotlib.pyplot as plt"
   ]
  },
  {
   "cell_type": "code",
   "execution_count": 71,
   "metadata": {},
   "outputs": [],
   "source": [
    "plt.style.use('classic')"
   ]
  },
  {
   "cell_type": "code",
   "execution_count": 78,
   "metadata": {},
   "outputs": [
    {
     "data": {
      "image/png": "[encoded data removed]",
      "text/plain": [
       "<Figure size 640x480 with 1 Axes>"
      ]
     },
     "metadata": {},
     "output_type": "display_data"
    }
   ],
   "source": [
    "x = np.linspace(0,10,100)\n",
    "plt.plot(x,np.sin(x))\n",
    "plt.plot(x,np.cos(x));"
   ]
  },
  {
   "cell_type": "code",
   "execution_count": 79,
   "metadata": {},
   "outputs": [
    {
     "data": {
      "application/javascript": [
       "/* Put everything inside the global mpl namespace */\n",
       "window.mpl = {};\n",
       "\n",
       "\n",
       "mpl.get_websocket_type = function() {\n",
       "    if (typeof(WebSocket) !== 'undefined') {\n",
       "        return WebSocket;\n",
       "    } else if (typeof(MozWebSocket) !== 'undefined') {\n",
       "        return MozWebSocket;\n",
       "    } else {\n",
       "        alert('Your browser does not have WebSocket support. ' +\n",
       "              'Please try Chrome, Safari or Firefox ≥ 6. ' +\n",
       "              'Firefox 4 and 5 are also supported but you ' +\n",
       "              'have to enable WebSockets in about:config.');\n",
       "    };\n",
       "}\n",
       "\n",
       "mpl.figure = function(figure_id, websocket, ondownload, parent_element) {\n",
       "    this.id = figure_id;\n",
       "\n",
       "    this.ws = websocket;\n",
       "\n",
       "    this.supports_binary = (this.ws.binaryType != undefined);\n",
       "\n",
       "    if (!this.supports_binary) {\n",
       "        var warnings = document.getElementById(\"mpl-warnings\");\n",
       "        if (warnings) {\n",
       "            warnings.style.display = 'block';\n",
       "            warnings.textContent = (\n",
       "                \"This browser does not support binary websocket messages. \" +\n",
       "                    \"Performance may be slow.\");\n",
       "        }\n",
       "    }\n",
       "\n",
       "    this.imageObj = new Image();\n",
       "\n",
       "    this.context = undefined;\n",
       "    this.message = undefined;\n",
       "    this.canvas = undefined;\n",
       "    this.rubberband_canvas = undefined;\n",
       "    this.rubberband_context = undefined;\n",
       "    this.format_dropdown = undefined;\n",
       "\n",
       "    this.image_mode = 'full';\n",
       "\n",
       "    this.root = $('<div/>');\n",
       "    this._root_extra_style(this.root)\n",
       "    this.root.attr('style', 'display: inline-block');\n",
       "\n",
       "    $(parent_element).append(this.root);\n",
       "\n",
       "    this._init_header(this);\n",
       "    this._init_canvas(this);\n",
       "    this._init_toolbar(this);\n",
       "\n",
       "    var fig = this;\n",
       "\n",
       "    this.waiting = false;\n",
       "\n",
       "    this.ws.onopen =  function () {\n",
       "            fig.send_message(\"supports_binary\", {value: fig.supports_binary});\n",
       "            fig.send_message(\"send_image_mode\", {});\n",
       "            if (mpl.ratio != 1) {\n",
       "                fig.send_message(\"set_dpi_ratio\", {'dpi_ratio': mpl.ratio});\n",
       "            }\n",
       "            fig.send_message(\"refresh\", {});\n",
       "        }\n",
       "\n",
       "    this.imageObj.onload = function() {\n",
       "            if (fig.image_mode == 'full') {\n",
       "                // Full images could contain transparency (where diff images\n",
       "                // almost always do), so we need to clear the canvas so that\n",
       "                // there is no ghosting.\n",
       "                fig.context.clearRect(0, 0, fig.canvas.width, fig.canvas.height);\n",
       "            }\n",
       "            fig.context.drawImage(fig.imageObj, 0, 0);\n",
       "        };\n",
       "\n",
       "    this.imageObj.onunload = function() {\n",
       "        fig.ws.close();\n",
       "    }\n",
       "\n",
       "    this.ws.onmessage = this._make_on_message_function(this);\n",
       "\n",
       "    this.ondownload = ondownload;\n",
       "}\n",
       "\n",
       "mpl.figure.prototype._init_header = function() {\n",
       "    var titlebar = $(\n",
       "        '<div class=\"ui-dialog-titlebar ui-widget-header ui-corner-all ' +\n",
       "        'ui-helper-clearfix\"/>');\n",
       "    var titletext = $(\n",
       "        '<div class=\"ui-dialog-title\" style=\"width: 100%; ' +\n",
       "        'text-align: center; padding: 3px;\"/>');\n",
       "    titlebar.append(titletext)\n",
       "    this.root.append(titlebar);\n",
       "    this.header = titletext[0];\n",
       "}\n",
       "\n",
       "\n",
       "\n",
       "mpl.figure.prototype._canvas_extra_style = function(canvas_div) {\n",
       "\n",
       "}\n",
       "\n",
       "\n",
       "mpl.figure.prototype._root_extra_style = function(canvas_div) {\n",
       "\n",
       "}\n",
       "\n",
       "mpl.figure.prototype._init_canvas = function() {\n",
       "    var fig = this;\n",
       "\n",
       "    var canvas_div = $('<div/>');\n",
       "\n",
       "    canvas_div.attr('style', 'position: relative; clear: both; outline: 0');\n",
       "\n",
       "    function canvas_keyboard_event(event) {\n",
       "        return fig.key_event(event, event['data']);\n",
       "    }\n",
       "\n",
       "    canvas_div.keydown('key_press', canvas_keyboard_event);\n",
       "    canvas_div.keyup('key_release', canvas_keyboard_event);\n",
       "    this.canvas_div = canvas_div\n",
       "    this._canvas_extra_style(canvas_div)\n",
       "    this.root.append(canvas_div);\n",
       "\n",
       "    var canvas = $('<canvas/>');\n",
       "    canvas.addClass('mpl-canvas');\n",
       "    canvas.attr('style', \"left: 0; top: 0; z-index: 0; outline: 0\")\n",
       "\n",
       "    this.canvas = canvas[0];\n",
       "    this.context = canvas[0].getContext(\"2d\");\n",
       "\n",
       "    var backingStore = this.context.backingStorePixelRatio ||\n",
       "\tthis.context.webkitBackingStorePixelRatio ||\n",
       "\tthis.context.mozBackingStorePixelRatio ||\n",
       "\tthis.context.msBackingStorePixelRatio ||\n",
       "\tthis.context.oBackingStorePixelRatio ||\n",
       "\tthis.context.backingStorePixelRatio || 1;\n",
       "\n",
       "    mpl.ratio = (window.devicePixelRatio || 1) / backingStore;\n",
       "\n",
       "    var rubberband = $('<canvas/>');\n",
       "    rubberband.attr('style', \"position: absolute; left: 0; top: 0; z-index: 1;\")\n",
       "\n",
       "    var pass_mouse_events = true;\n",
       "\n",
       "    canvas_div.resizable({\n",
       "        start: function(event, ui) {\n",
       "            pass_mouse_events = false;\n",
       "        },\n",
       "        resize: function(event, ui) {\n",
       "            fig.request_resize(ui.size.width, ui.size.height);\n",
       "        },\n",
       "        stop: function(event, ui) {\n",
       "            pass_mouse_events = true;\n",
       "            fig.request_resize(ui.size.width, ui.size.height);\n",
       "        },\n",
       "    });\n",
       "\n",
       "    function mouse_event_fn(event) {\n",
       "        if (pass_mouse_events)\n",
       "            return fig.mouse_event(event, event['data']);\n",
       "    }\n",
       "\n",
       "    rubberband.mousedown('button_press', mouse_event_fn);\n",
       "    rubberband.mouseup('button_release', mouse_event_fn);\n",
       "    // Throttle sequential mouse events to 1 every 20ms.\n",
       "    rubberband.mousemove('motion_notify', mouse_event_fn);\n",
       "\n",
       "    rubberband.mouseenter('figure_enter', mouse_event_fn);\n",
       "    rubberband.mouseleave('figure_leave', mouse_event_fn);\n",
       "\n",
       "    canvas_div.on(\"wheel\", function (event) {\n",
       "        event = event.originalEvent;\n",
       "        event['data'] = 'scroll'\n",
       "        if (event.deltaY < 0) {\n",
       "            event.step = 1;\n",
       "        } else {\n",
       "            event.step = -1;\n",
       "        }\n",
       "        mouse_event_fn(event);\n",
       "    });\n",
       "\n",
       "    canvas_div.append(canvas);\n",
       "    canvas_div.append(rubberband);\n",
       "\n",
       "    this.rubberband = rubberband;\n",
       "    this.rubberband_canvas = rubberband[0];\n",
       "    this.rubberband_context = rubberband[0].getContext(\"2d\");\n",
       "    this.rubberband_context.strokeStyle = \"#000000\";\n",
       "\n",
       "    this._resize_canvas = function(width, height) {\n",
       "        // Keep the size of the canvas, canvas container, and rubber band\n",
       "        // canvas in synch.\n",
       "        canvas_div.css('width', width)\n",
       "        canvas_div.css('height', height)\n",
       "\n",
       "        canvas.attr('width', width * mpl.ratio);\n",
       "        canvas.attr('height', height * mpl.ratio);\n",
       "        canvas.attr('style', 'width: ' + width + 'px; height: ' + height + 'px;');\n",
       "\n",
       "        rubberband.attr('width', width);\n",
       "        rubberband.attr('height', height);\n",
       "    }\n",
       "\n",
       "    // Set the figure to an initial 600x600px, this will subsequently be updated\n",
       "    // upon first draw.\n",
       "    this._resize_canvas(600, 600);\n",
       "\n",
       "    // Disable right mouse context menu.\n",
       "    $(this.rubberband_canvas).bind(\"contextmenu\",function(e){\n",
       "        return false;\n",
       "    });\n",
       "\n",
       "    function set_focus () {\n",
       "        canvas.focus();\n",
       "        canvas_div.focus();\n",
       "    }\n",
       "\n",
       "    window.setTimeout(set_focus, 100);\n",
       "}\n",
       "\n",
       "mpl.figure.prototype._init_toolbar = function() {\n",
       "    var fig = this;\n",
       "\n",
       "    var nav_element = $('<div/>');\n",
       "    nav_element.attr('style', 'width: 100%');\n",
       "    this.root.append(nav_element);\n",
       "\n",
       "    // Define a callback function for later on.\n",
       "    function toolbar_event(event) {\n",
       "        return fig.toolbar_button_onclick(event['data']);\n",
       "    }\n",
       "    function toolbar_mouse_event(event) {\n",
       "        return fig.toolbar_button_onmouseover(event['data']);\n",
       "    }\n",
       "\n",
       "    for(var toolbar_ind in mpl.toolbar_items) {\n",
       "        var name = mpl.toolbar_items[toolbar_ind][0];\n",
       "        var tooltip = mpl.toolbar_items[toolbar_ind][1];\n",
       "        var image = mpl.toolbar_items[toolbar_ind][2];\n",
       "        var method_name = mpl.toolbar_items[toolbar_ind][3];\n",
       "\n",
       "        if (!name) {\n",
       "            // put a spacer in here.\n",
       "            continue;\n",
       "        }\n",
       "        var button = $('<button/>');\n",
       "        button.addClass('ui-button ui-widget ui-state-default ui-corner-all ' +\n",
       "                        'ui-button-icon-only');\n",
       "        button.attr('role', 'button');\n",
       "        button.attr('aria-disabled', 'false');\n",
       "        button.click(method_name, toolbar_event);\n",
       "        button.mouseover(tooltip, toolbar_mouse_event);\n",
       "\n",
       "        var icon_img = $('<span/>');\n",
       "        icon_img.addClass('ui-button-icon-primary ui-icon');\n",
       "        icon_img.addClass(image);\n",
       "        icon_img.addClass('ui-corner-all');\n",
       "\n",
       "        var tooltip_span = $('<span/>');\n",
       "        tooltip_span.addClass('ui-button-text');\n",
       "        tooltip_span.html(tooltip);\n",
       "\n",
       "        button.append(icon_img);\n",
       "        button.append(tooltip_span);\n",
       "\n",
       "        nav_element.append(button);\n",
       "    }\n",
       "\n",
       "    var fmt_picker_span = $('<span/>');\n",
       "\n",
       "    var fmt_picker = $('<select/>');\n",
       "    fmt_picker.addClass('mpl-toolbar-option ui-widget ui-widget-content');\n",
       "    fmt_picker_span.append(fmt_picker);\n",
       "    nav_element.append(fmt_picker_span);\n",
       "    this.format_dropdown = fmt_picker[0];\n",
       "\n",
       "    for (var ind in mpl.extensions) {\n",
       "        var fmt = mpl.extensions[ind];\n",
       "        var option = $(\n",
       "            '<option/>', {selected: fmt === mpl.default_extension}).html(fmt);\n",
       "        fmt_picker.append(option);\n",
       "    }\n",
       "\n",
       "    // Add hover states to the ui-buttons\n",
       "    $( \".ui-button\" ).hover(\n",
       "        function() { $(this).addClass(\"ui-state-hover\");},\n",
       "        function() { $(this).removeClass(\"ui-state-hover\");}\n",
       "    );\n",
       "\n",
       "    var status_bar = $('<span class=\"mpl-message\"/>');\n",
       "    nav_element.append(status_bar);\n",
       "    this.message = status_bar[0];\n",
       "}\n",
       "\n",
       "mpl.figure.prototype.request_resize = function(x_pixels, y_pixels) {\n",
       "    // Request matplotlib to resize the figure. Matplotlib will then trigger a resize in the client,\n",
       "    // which will in turn request a refresh of the image.\n",
       "    this.send_message('resize', {'width': x_pixels, 'height': y_pixels});\n",
       "}\n",
       "\n",
       "mpl.figure.prototype.send_message = function(type, properties) {\n",
       "    properties['type'] = type;\n",
       "    properties['figure_id'] = this.id;\n",
       "    this.ws.send(JSON.stringify(properties));\n",
       "}\n",
       "\n",
       "mpl.figure.prototype.send_draw_message = function() {\n",
       "    if (!this.waiting) {\n",
       "        this.waiting = true;\n",
       "        this.ws.send(JSON.stringify({type: \"draw\", figure_id: this.id}));\n",
       "    }\n",
       "}\n",
       "\n",
       "\n",
       "mpl.figure.prototype.handle_save = function(fig, msg) {\n",
       "    var format_dropdown = fig.format_dropdown;\n",
       "    var format = format_dropdown.options[format_dropdown.selectedIndex].value;\n",
       "    fig.ondownload(fig, format);\n",
       "}\n",
       "\n",
       "\n",
       "mpl.figure.prototype.handle_resize = function(fig, msg) {\n",
       "    var size = msg['size'];\n",
       "    if (size[0] != fig.canvas.width || size[1] != fig.canvas.height) {\n",
       "        fig._resize_canvas(size[0], size[1]);\n",
       "        fig.send_message(\"refresh\", {});\n",
       "    };\n",
       "}\n",
       "\n",
       "mpl.figure.prototype.handle_rubberband = function(fig, msg) {\n",
       "    var x0 = msg['x0'] / mpl.ratio;\n",
       "    var y0 = (fig.canvas.height - msg['y0']) / mpl.ratio;\n",
       "    var x1 = msg['x1'] / mpl.ratio;\n",
       "    var y1 = (fig.canvas.height - msg['y1']) / mpl.ratio;\n",
       "    x0 = Math.floor(x0) + 0.5;\n",
       "    y0 = Math.floor(y0) + 0.5;\n",
       "    x1 = Math.floor(x1) + 0.5;\n",
       "    y1 = Math.floor(y1) + 0.5;\n",
       "    var min_x = Math.min(x0, x1);\n",
       "    var min_y = Math.min(y0, y1);\n",
       "    var width = Math.abs(x1 - x0);\n",
       "    var height = Math.abs(y1 - y0);\n",
       "\n",
       "    fig.rubberband_context.clearRect(\n",
       "        0, 0, fig.canvas.width / mpl.ratio, fig.canvas.height / mpl.ratio);\n",
       "\n",
       "    fig.rubberband_context.strokeRect(min_x, min_y, width, height);\n",
       "}\n",
       "\n",
       "mpl.figure.prototype.handle_figure_label = function(fig, msg) {\n",
       "    // Updates the figure title.\n",
       "    fig.header.textContent = msg['label'];\n",
       "}\n",
       "\n",
       "mpl.figure.prototype.handle_cursor = function(fig, msg) {\n",
       "    var cursor = msg['cursor'];\n",
       "    switch(cursor)\n",
       "    {\n",
       "    case 0:\n",
       "        cursor = 'pointer';\n",
       "        break;\n",
       "    case 1:\n",
       "        cursor = 'default';\n",
       "        break;\n",
       "    case 2:\n",
       "        cursor = 'crosshair';\n",
       "        break;\n",
       "    case 3:\n",
       "        cursor = 'move';\n",
       "        break;\n",
       "    }\n",
       "    fig.rubberband_canvas.style.cursor = cursor;\n",
       "}\n",
       "\n",
       "mpl.figure.prototype.handle_message = function(fig, msg) {\n",
       "    fig.message.textContent = msg['message'];\n",
       "}\n",
       "\n",
       "mpl.figure.prototype.handle_draw = function(fig, msg) {\n",
       "    // Request the server to send over a new figure.\n",
       "    fig.send_draw_message();\n",
       "}\n",
       "\n",
       "mpl.figure.prototype.handle_image_mode = function(fig, msg) {\n",
       "    fig.image_mode = msg['mode'];\n",
       "}\n",
       "\n",
       "mpl.figure.prototype.updated_canvas_event = function() {\n",
       "    // Called whenever the canvas gets updated.\n",
       "    this.send_message(\"ack\", {});\n",
       "}\n",
       "\n",
       "// A function to construct a web socket function for onmessage handling.\n",
       "// Called in the figure constructor.\n",
       "mpl.figure.prototype._make_on_message_function = function(fig) {\n",
       "    return function socket_on_message(evt) {\n",
       "        if (evt.data instanceof Blob) {\n",
       "            /* FIXME: We get \"Resource interpreted as Image but\n",
       "             * transferred with MIME type text/plain:\" errors on\n",
       "             * Chrome.  But how to set the MIME type?  It doesn't seem\n",
       "             * to be part of the websocket stream */\n",
       "            evt.data.type = \"image/png\";\n",
       "\n",
       "            /* Free the memory for the previous frames */\n",
       "            if (fig.imageObj.src) {\n",
       "                (window.URL || window.webkitURL).revokeObjectURL(\n",
       "                    fig.imageObj.src);\n",
       "            }\n",
       "\n",
       "            fig.imageObj.src = (window.URL || window.webkitURL).createObjectURL(\n",
       "                evt.data);\n",
       "            fig.updated_canvas_event();\n",
       "            fig.waiting = false;\n",
       "            return;\n",
       "        }\n",
       "        else if (typeof evt.data === 'string' && evt.data.slice(0, 21) == \"data:image/png;base64\") {\n",
       "            fig.imageObj.src = evt.data;\n",
       "            fig.updated_canvas_event();\n",
       "            fig.waiting = false;\n",
       "            return;\n",
       "        }\n",
       "\n",
       "        var msg = JSON.parse(evt.data);\n",
       "        var msg_type = msg['type'];\n",
       "\n",
       "        // Call the  \"handle_{type}\" callback, which takes\n",
       "        // the figure and JSON message as its only arguments.\n",
       "        try {\n",
       "            var callback = fig[\"handle_\" + msg_type];\n",
       "        } catch (e) {\n",
       "            console.log(\"No handler for the '\" + msg_type + \"' message type: \", msg);\n",
       "            return;\n",
       "        }\n",
       "\n",
       "        if (callback) {\n",
       "            try {\n",
       "                // console.log(\"Handling '\" + msg_type + \"' message: \", msg);\n",
       "                callback(fig, msg);\n",
       "            } catch (e) {\n",
       "                console.log(\"Exception inside the 'handler_\" + msg_type + \"' callback:\", e, e.stack, msg);\n",
       "            }\n",
       "        }\n",
       "    };\n",
       "}\n",
       "\n",
       "// from http://stackoverflow.com/questions/1114465/getting-mouse-location-in-canvas\n",
       "mpl.findpos = function(e) {\n",
       "    //this section is from http://www.quirksmode.org/js/events_properties.html\n",
       "    var targ;\n",
       "    if (!e)\n",
       "        e = window.event;\n",
       "    if (e.target)\n",
       "        targ = e.target;\n",
       "    else if (e.srcElement)\n",
       "        targ = e.srcElement;\n",
       "    if (targ.nodeType == 3) // defeat Safari bug\n",
       "        targ = targ.parentNode;\n",
       "\n",
       "    // jQuery normalizes the pageX and pageY\n",
       "    // pageX,Y are the mouse positions relative to the document\n",
       "    // offset() returns the position of the element relative to the document\n",
       "    var x = e.pageX - $(targ).offset().left;\n",
       "    var y = e.pageY - $(targ).offset().top;\n",
       "\n",
       "    return {\"x\": x, \"y\": y};\n",
       "};\n",
       "\n",
       "/*\n",
       " * return a copy of an object with only non-object keys\n",
       " * we need this to avoid circular references\n",
       " * http://stackoverflow.com/a/24161582/3208463\n",
       " */\n",
       "function simpleKeys (original) {\n",
       "  return Object.keys(original).reduce(function (obj, key) {\n",
       "    if (typeof original[key] !== 'object')\n",
       "        obj[key] = original[key]\n",
       "    return obj;\n",
       "  }, {});\n",
       "}\n",
       "\n",
       "mpl.figure.prototype.mouse_event = function(event, name) {\n",
       "    var canvas_pos = mpl.findpos(event)\n",
       "\n",
       "    if (name === 'button_press')\n",
       "    {\n",
       "        this.canvas.focus();\n",
       "        this.canvas_div.focus();\n",
       "    }\n",
       "\n",
       "    var x = canvas_pos.x * mpl.ratio;\n",
       "    var y = canvas_pos.y * mpl.ratio;\n",
       "\n",
       "    this.send_message(name, {x: x, y: y, button: event.button,\n",
       "                             step: event.step,\n",
       "                             guiEvent: simpleKeys(event)});\n",
       "\n",
       "    /* This prevents the web browser from automatically changing to\n",
       "     * the text insertion cursor when the button is pressed.  We want\n",
       "     * to control all of the cursor setting manually through the\n",
       "     * 'cursor' event from matplotlib */\n",
       "    event.preventDefault();\n",
       "    return false;\n",
       "}\n",
       "\n",
       "mpl.figure.prototype._key_event_extra = function(event, name) {\n",
       "    // Handle any extra behaviour associated with a key event\n",
       "}\n",
       "\n",
       "mpl.figure.prototype.key_event = function(event, name) {\n",
       "\n",
       "    // Prevent repeat events\n",
       "    if (name == 'key_press')\n",
       "    {\n",
       "        if (event.which === this._key)\n",
       "            return;\n",
       "        else\n",
       "            this._key = event.which;\n",
       "    }\n",
       "    if (name == 'key_release')\n",
       "        this._key = null;\n",
       "\n",
       "    var value = '';\n",
       "    if (event.ctrlKey && event.which != 17)\n",
       "        value += \"ctrl+\";\n",
       "    if (event.altKey && event.which != 18)\n",
       "        value += \"alt+\";\n",
       "    if (event.shiftKey && event.which != 16)\n",
       "        value += \"shift+\";\n",
       "\n",
       "    value += 'k';\n",
       "    value += event.which.toString();\n",
       "\n",
       "    this._key_event_extra(event, name);\n",
       "\n",
       "    this.send_message(name, {key: value,\n",
       "                             guiEvent: simpleKeys(event)});\n",
       "    return false;\n",
       "}\n",
       "\n",
       "mpl.figure.prototype.toolbar_button_onclick = function(name) {\n",
       "    if (name == 'download') {\n",
       "        this.handle_save(this, null);\n",
       "    } else {\n",
       "        this.send_message(\"toolbar_button\", {name: name});\n",
       "    }\n",
       "};\n",
       "\n",
       "mpl.figure.prototype.toolbar_button_onmouseover = function(tooltip) {\n",
       "    this.message.textContent = tooltip;\n",
       "};\n",
       "mpl.toolbar_items = [[\"Home\", \"Reset original view\", \"fa fa-home icon-home\", \"home\"], [\"Back\", \"Back to previous view\", \"fa fa-arrow-left icon-arrow-left\", \"back\"], [\"Forward\", \"Forward to next view\", \"fa fa-arrow-right icon-arrow-right\", \"forward\"], [\"\", \"\", \"\", \"\"], [\"Pan\", \"Pan axes with left mouse, zoom with right\", \"fa fa-arrows icon-move\", \"pan\"], [\"Zoom\", \"Zoom to rectangle\", \"fa fa-square-o icon-check-empty\", \"zoom\"], [\"\", \"\", \"\", \"\"], [\"Download\", \"Download plot\", \"fa fa-floppy-o icon-save\", \"download\"]];\n",
       "\n",
       "mpl.extensions = [\"eps\", \"jpeg\", \"pdf\", \"png\", \"ps\", \"raw\", \"svg\", \"tif\"];\n",
       "\n",
       "mpl.default_extension = \"png\";var comm_websocket_adapter = function(comm) {\n",
       "    // Create a \"websocket\"-like object which calls the given IPython comm\n",
       "    // object with the appropriate methods. Currently this is a non binary\n",
       "    // socket, so there is still some room for performance tuning.\n",
       "    var ws = {};\n",
       "\n",
       "    ws.close = function() {\n",
       "        comm.close()\n",
       "    };\n",
       "    ws.send = function(m) {\n",
       "        //console.log('sending', m);\n",
       "        comm.send(m);\n",
       "    };\n",
       "    // Register the callback with on_msg.\n",
       "    comm.on_msg(function(msg) {\n",
       "        //console.log('receiving', msg['content']['data'], msg);\n",
       "        // Pass the mpl event to the overridden (by mpl) onmessage function.\n",
       "        ws.onmessage(msg['content']['data'])\n",
       "    });\n",
       "    return ws;\n",
       "}\n",
       "\n",
       "mpl.mpl_figure_comm = function(comm, msg) {\n",
       "    // This is the function which gets called when the mpl process\n",
       "    // starts-up an IPython Comm through the \"matplotlib\" channel.\n",
       "\n",
       "    var id = msg.content.data.id;\n",
       "    // Get hold of the div created by the display call when the Comm\n",
       "    // socket was opened in Python.\n",
       "    var element = $(\"#\" + id);\n",
       "    var ws_proxy = comm_websocket_adapter(comm)\n",
       "\n",
       "    function ondownload(figure, format) {\n",
       "        window.open(figure.imageObj.src);\n",
       "    }\n",
       "\n",
       "    var fig = new mpl.figure(id, ws_proxy,\n",
       "                           ondownload,\n",
       "                           element.get(0));\n",
       "\n",
       "    // Call onopen now - mpl needs it, as it is assuming we've passed it a real\n",
       "    // web socket which is closed, not our websocket->open comm proxy.\n",
       "    ws_proxy.onopen();\n",
       "\n",
       "    fig.parent_element = element.get(0);\n",
       "    fig.cell_info = mpl.find_output_cell(\"<div id='\" + id + \"'></div>\");\n",
       "    if (!fig.cell_info) {\n",
       "        console.error(\"Failed to find cell for figure\", id, fig);\n",
       "        return;\n",
       "    }\n",
       "\n",
       "    var output_index = fig.cell_info[2]\n",
       "    var cell = fig.cell_info[0];\n",
       "\n",
       "};\n",
       "\n",
       "mpl.figure.prototype.handle_close = function(fig, msg) {\n",
       "    var width = fig.canvas.width/mpl.ratio\n",
       "    fig.root.unbind('remove')\n",
       "\n",
       "    // Update the output cell to use the data from the current canvas.\n",
       "    fig.push_to_output();\n",
       "    var dataURL = fig.canvas.toDataURL();\n",
       "    // Re-enable the keyboard manager in IPython - without this line, in FF,\n",
       "    // the notebook keyboard shortcuts fail.\n",
       "    IPython.keyboard_manager.enable()\n",
       "    $(fig.parent_element).html('<img src=\"' + dataURL + '\" width=\"' + width + '\">');\n",
       "    fig.close_ws(fig, msg);\n",
       "}\n",
       "\n",
       "mpl.figure.prototype.close_ws = function(fig, msg){\n",
       "    fig.send_message('closing', msg);\n",
       "    // fig.ws.close()\n",
       "}\n",
       "\n",
       "mpl.figure.prototype.push_to_output = function(remove_interactive) {\n",
       "    // Turn the data on the canvas into data in the output cell.\n",
       "    var width = this.canvas.width/mpl.ratio\n",
       "    var dataURL = this.canvas.toDataURL();\n",
       "    this.cell_info[1]['text/html'] = '<img src=\"' + dataURL + '\" width=\"' + width + '\">';\n",
       "}\n",
       "\n",
       "mpl.figure.prototype.updated_canvas_event = function() {\n",
       "    // Tell IPython that the notebook contents must change.\n",
       "    IPython.notebook.set_dirty(true);\n",
       "    this.send_message(\"ack\", {});\n",
       "    var fig = this;\n",
       "    // Wait a second, then push the new image to the DOM so\n",
       "    // that it is saved nicely (might be nice to debounce this).\n",
       "    setTimeout(function () { fig.push_to_output() }, 1000);\n",
       "}\n",
       "\n",
       "mpl.figure.prototype._init_toolbar = function() {\n",
       "    var fig = this;\n",
       "\n",
       "    var nav_element = $('<div/>');\n",
       "    nav_element.attr('style', 'width: 100%');\n",
       "    this.root.append(nav_element);\n",
       "\n",
       "    // Define a callback function for later on.\n",
       "    function toolbar_event(event) {\n",
       "        return fig.toolbar_button_onclick(event['data']);\n",
       "    }\n",
       "    function toolbar_mouse_event(event) {\n",
       "        return fig.toolbar_button_onmouseover(event['data']);\n",
       "    }\n",
       "\n",
       "    for(var toolbar_ind in mpl.toolbar_items){\n",
       "        var name = mpl.toolbar_items[toolbar_ind][0];\n",
       "        var tooltip = mpl.toolbar_items[toolbar_ind][1];\n",
       "        var image = mpl.toolbar_items[toolbar_ind][2];\n",
       "        var method_name = mpl.toolbar_items[toolbar_ind][3];\n",
       "\n",
       "        if (!name) { continue; };\n",
       "\n",
       "        var button = $('<button class=\"btn btn-default\" href=\"#\" title=\"' + name + '\"><i class=\"fa ' + image + ' fa-lg\"></i></button>');\n",
       "        button.click(method_name, toolbar_event);\n",
       "        button.mouseover(tooltip, toolbar_mouse_event);\n",
       "        nav_element.append(button);\n",
       "    }\n",
       "\n",
       "    // Add the status bar.\n",
       "    var status_bar = $('<span class=\"mpl-message\" style=\"text-align:right; float: right;\"/>');\n",
       "    nav_element.append(status_bar);\n",
       "    this.message = status_bar[0];\n",
       "\n",
       "    // Add the close button to the window.\n",
       "    var buttongrp = $('<div class=\"btn-group inline pull-right\"></div>');\n",
       "    var button = $('<button class=\"btn btn-mini btn-primary\" href=\"#\" title=\"Stop Interaction\"><i class=\"fa fa-power-off icon-remove icon-large\"></i></button>');\n",
       "    button.click(function (evt) { fig.handle_close(fig, {}); } );\n",
       "    button.mouseover('Stop Interaction', toolbar_mouse_event);\n",
       "    buttongrp.append(button);\n",
       "    var titlebar = this.root.find($('.ui-dialog-titlebar'));\n",
       "    titlebar.prepend(buttongrp);\n",
       "}\n",
       "\n",
       "mpl.figure.prototype._root_extra_style = function(el){\n",
       "    var fig = this\n",
       "    el.on(\"remove\", function(){\n",
       "\tfig.close_ws(fig, {});\n",
       "    });\n",
       "}\n",
       "\n",
       "mpl.figure.prototype._canvas_extra_style = function(el){\n",
       "    // this is important to make the div 'focusable\n",
       "    el.attr('tabindex', 0)\n",
       "    // reach out to IPython and tell the keyboard manager to turn it's self\n",
       "    // off when our div gets focus\n",
       "\n",
       "    // location in version 3\n",
       "    if (IPython.notebook.keyboard_manager) {\n",
       "        IPython.notebook.keyboard_manager.register_events(el);\n",
       "    }\n",
       "    else {\n",
       "        // location in version 2\n",
       "        IPython.keyboard_manager.register_events(el);\n",
       "    }\n",
       "\n",
       "}\n",
       "\n",
       "mpl.figure.prototype._key_event_extra = function(event, name) {\n",
       "    var manager = IPython.notebook.keyboard_manager;\n",
       "    if (!manager)\n",
       "        manager = IPython.keyboard_manager;\n",
       "\n",
       "    // Check for shift+enter\n",
       "    if (event.shiftKey && event.which == 13) {\n",
       "        this.canvas_div.blur();\n",
       "        // select the cell after this one\n",
       "        var index = IPython.notebook.find_cell_index(this.cell_info[0]);\n",
       "        IPython.notebook.select(index + 1);\n",
       "    }\n",
       "}\n",
       "\n",
       "mpl.figure.prototype.handle_save = function(fig, msg) {\n",
       "    fig.ondownload(fig, null);\n",
       "}\n",
       "\n",
       "\n",
       "mpl.find_output_cell = function(html_output) {\n",
       "    // Return the cell and output element which can be found *uniquely* in the notebook.\n",
       "    // Note - this is a bit hacky, but it is done because the \"notebook_saving.Notebook\"\n",
       "    // IPython event is triggered only after the cells have been serialised, which for\n",
       "    // our purposes (turning an active figure into a static one), is too late.\n",
       "    var cells = IPython.notebook.get_cells();\n",
       "    var ncells = cells.length;\n",
       "    for (var i=0; i<ncells; i++) {\n",
       "        var cell = cells[i];\n",
       "        if (cell.cell_type === 'code'){\n",
       "            for (var j=0; j<cell.output_area.outputs.length; j++) {\n",
       "                var data = cell.output_area.outputs[j];\n",
       "                if (data.data) {\n",
       "                    // IPython >= 3 moved mimebundle to data attribute of output\n",
       "                    data = data.data;\n",
       "                }\n",
       "                if (data['text/html'] == html_output) {\n",
       "                    return [cell, data, j];\n",
       "                }\n",
       "            }\n",
       "        }\n",
       "    }\n",
       "}\n",
       "\n",
       "// Register the function which deals with the matplotlib target/channel.\n",
       "// The kernel may be null if the page has been refreshed.\n",
       "if (IPython.notebook.kernel != null) {\n",
       "    IPython.notebook.kernel.comm_manager.register_target('matplotlib', mpl.mpl_figure_comm);\n",
       "}\n"
      ],
      "text/plain": [
       "<IPython.core.display.Javascript object>"
      ]
     },
     "metadata": {},
     "output_type": "display_data"
    },
    {
     "data": {
      "text/html": [
       "<img src=\"data:image/png;base64,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\" width=\"640\">"
      ],
      "text/plain": [
       "<IPython.core.display.HTML object>"
      ]
     },
     "metadata": {},
     "output_type": "display_data"
    }
   ],
   "source": [
    "%matplotlib notebook\n",
    "\n",
    "x = np.linspace(0,10,100)\n",
    "plt.plot(x,np.sin(x))\n",
    "plt.plot(x,np.cos(x));"
   ]
  },
  {
   "cell_type": "code",
   "execution_count": 80,
   "metadata": {},
   "outputs": [
    {
     "data": {
      "image/png": "[encoded data removed]",
      "text/plain": [
       "<Figure size 432x288 with 1 Axes>"
      ]
     },
     "metadata": {
      "needs_background": "light"
     },
     "output_type": "display_data"
    }
   ],
   "source": [
    "%matplotlib inline\n",
    "\n",
    "#default\n",
    "\n",
    "x = np.linspace(0,10,100)\n",
    "plt.plot(x,np.sin(x))\n",
    "plt.plot(x,np.cos(x));"
   ]
  },
  {
   "cell_type": "code",
   "execution_count": 82,
   "metadata": {},
   "outputs": [
    {
     "data": {
      "image/png": "[encoded data removed]",
      "text/plain": [
       "<Figure size 432x288 with 1 Axes>"
      ]
     },
     "metadata": {
      "needs_background": "light"
     },
     "output_type": "display_data"
    }
   ],
   "source": [
    "x = np.linspace(0,10,100)\n",
    "plt.plot(x,np.sin(x),'-')\n",
    "plt.plot(x,np.cos(x),'--');"
   ]
  },
  {
   "cell_type": "code",
   "execution_count": 85,
   "metadata": {},
   "outputs": [
    {
     "data": {
      "image/png": "[encoded data removed]",
      "text/plain": [
       "<Figure size 432x288 with 2 Axes>"
      ]
     },
     "metadata": {
      "needs_background": "light"
     },
     "output_type": "display_data"
    }
   ],
   "source": [
    "plt.figure()\n",
    "plt.subplot(2,1,1)\n",
    "plt.plot(x,np.sin(x),'-')\n",
    "\n",
    "plt.subplot(2,1,2)\n",
    "plt.plot(x,np.cos(x),'--');"
   ]
  },
  {
   "cell_type": "code",
   "execution_count": 91,
   "metadata": {},
   "outputs": [
    {
     "data": {
      "image/png": "[encoded data removed]",
      "text/plain": [
       "<Figure size 720x216 with 2 Axes>"
      ]
     },
     "metadata": {
      "needs_background": "light"
     },
     "output_type": "display_data"
    }
   ],
   "source": [
    "plt.figure(figsize=(10,3))\n",
    "plt.subplot(1,2,1)\n",
    "plt.plot(x,np.sin(x),'-')\n",
    "\n",
    "plt.subplot(1,2,2)\n",
    "plt.plot(x,np.cos(x),'--');"
   ]
  },
  {
   "cell_type": "code",
   "execution_count": 95,
   "metadata": {},
   "outputs": [
    {
     "data": {
      "image/png": "[encoded data removed]",
      "text/plain": [
       "<Figure size 720x216 with 4 Axes>"
      ]
     },
     "metadata": {
      "needs_background": "light"
     },
     "output_type": "display_data"
    }
   ],
   "source": [
    "plt.figure(figsize=(10,3))\n",
    "plt.subplot(2,2,1)\n",
    "plt.plot(x,np.sin(x),'-')\n",
    "\n",
    "plt.subplot(2,2,2)\n",
    "plt.plot(x,np.cos(x),'--')\n",
    "\n",
    "plt.subplot(2,2,3)\n",
    "plt.plot(x,np.sinh(x),'--')\n",
    "\n",
    "plt.subplot(2,2,4)\n",
    "plt.plot(x,np.cosh(x),'--');"
   ]
  },
  {
   "cell_type": "code",
   "execution_count": 88,
   "metadata": {},
   "outputs": [
    {
     "data": {
      "image/png": "[encoded data removed]",
      "text/plain": [
       "<Figure size 432x288 with 1 Axes>"
      ]
     },
     "metadata": {
      "needs_background": "light"
     },
     "output_type": "display_data"
    }
   ],
   "source": [
    "plt.plot(x,np.sin(x))\n",
    "plt.title(\"A Sine Curve\")\n",
    "plt.xlabel(\"x\")\n",
    "plt.ylabel(\"sin(x)\");"
   ]
  },
  {
   "cell_type": "code",
   "execution_count": 100,
   "metadata": {},
   "outputs": [
    {
     "data": {
      "image/png": "[encoded data removed]",
      "text/plain": [
       "<Figure size 432x288 with 1 Axes>"
      ]
     },
     "metadata": {
      "needs_background": "light"
     },
     "output_type": "display_data"
    }
   ],
   "source": [
    "plt.plot(x,np.sin(x),'-g',label=\"sin(x)\")\n",
    "plt.plot(x,np.cos(x),':b',label=\"cos(x)\")\n",
    "\n",
    "plt.legend();"
   ]
  },
  {
   "cell_type": "code",
   "execution_count": null,
   "metadata": {},
   "outputs": [],
   "source": []
  }
 ],
 "metadata": {
  "kernelspec": {
   "display_name": "Python 3",
   "language": "python",
   "name": "python3"
  },
  "language_info": {
   "codemirror_mode": {
    "name": "ipython",
    "version": 3
   },
   "file_extension": ".py",
   "mimetype": "text/x-python",
   "name": "python",
   "nbconvert_exporter": "python",
   "pygments_lexer": "ipython3",
   "version": "3.7.6"
  }
 },
 "nbformat": 4,
 "nbformat_minor": 4
}
